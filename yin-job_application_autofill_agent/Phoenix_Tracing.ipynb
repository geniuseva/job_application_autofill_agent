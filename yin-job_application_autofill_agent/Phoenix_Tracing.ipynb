{
  "cells": [
    {
      "cell_type": "code",
      "execution_count": null,
      "metadata": {
        "colab": {
          "base_uri": "https://localhost:8080/"
        },
        "id": "95ruS2I6rl9D",
        "outputId": "bcfcb193-e17f-413f-ab7f-6ea91fd94fb0"
      },
      "outputs": [],
      "source": [
        "pip install pyautogen"
      ]
    },
    {
      "cell_type": "code",
      "execution_count": null,
      "metadata": {
        "colab": {
          "base_uri": "https://localhost:8080/"
        },
        "id": "J6rrWZ5Ir016",
        "outputId": "023377e7-2183-48ee-ada2-fe2a1f5182f0"
      },
      "outputs": [],
      "source": [
        "import os\n",
        "from getpass import getpass\n",
        "\n",
        "if not (openai_api_key := os.getenv(\"OPENAI_API_KEY\")):\n",
        "    openai_api_key = getpass(\"🔑 Enter your OpenAI API key: \")\n",
        "\n",
        "os.environ[\"OPENAI_API_KEY\"] = openai_api_key"
      ]
    },
    {
      "cell_type": "code",
      "execution_count": null,
      "metadata": {
        "id": "N3M6aYvDssvR"
      },
      "outputs": [],
      "source": [
        "import autogen\n",
        "\n",
        "# ARIZE\n",
        "config_list = [\n",
        "    {\n",
        "        \"model\": \"gpt-4o\",\n",
        "        \"api_key\": os.environ[\"OPENAI_API_KEY\"],\n",
        "    }\n",
        "]"
      ]
    },
    {
      "cell_type": "code",
      "execution_count": null,
      "metadata": {
        "id": "kw4PeMvps2UM"
      },
      "outputs": [],
      "source": [
        "!pip install -qq arize-phoenix arize-phoenix-otel ipython matplotlib pycm scikit-learn tiktoken"
      ]
    },
    {
      "cell_type": "code",
      "execution_count": null,
      "metadata": {
        "colab": {
          "base_uri": "https://localhost:8080/"
        },
        "id": "Av9Gxoox1Jur",
        "outputId": "5317e065-d40a-4c68-c68f-d5aabbfc49a8"
      },
      "outputs": [],
      "source": [
        "!pip install --upgrade opentelemetry-api opentelemetry-sdk openinference-instrumentation-openai"
      ]
    },
    {
      "cell_type": "code",
      "execution_count": null,
      "metadata": {
        "colab": {
          "base_uri": "https://localhost:8080/",
          "height": 347
        },
        "id": "A2ycRgFi1Psc",
        "outputId": "d7bdf613-bce7-4ab5-c88b-2d202bd12e0a"
      },
      "outputs": [],
      "source": [
        "from openinference.instrumentation.openai import OpenAIInstrumentor\n",
        "\n",
        "import phoenix as px\n",
        "from phoenix.otel import register\n",
        "\n",
        "px.launch_app()\n",
        "tracer_provider = register()\n",
        "OpenAIInstrumentor().instrument(tracer_provider=tracer_provider)"
      ]
    },
    {
      "cell_type": "code",
      "execution_count": null,
      "metadata": {},
      "outputs": [],
      "source": [
        "!pip install openai"
      ]
    },
    {
      "cell_type": "code",
      "execution_count": null,
      "metadata": {},
      "outputs": [],
      "source": [
        "!pip install playwright\n",
        "!pip install -r ../requirements.txt"
      ]
    },
    {
      "cell_type": "code",
      "execution_count": null,
      "metadata": {},
      "outputs": [],
      "source": [
        "from core.orchestrator import run_orchestrator\n",
        "run_orchestrator(\"https://jobs.lever.co/snaplogic/0386e2f7-c951-404b-85f8-07a67e9266b5/apply\")"
      ]
    }
  ],
  "metadata": {
    "colab": {
      "provenance": []
    },
    "kernelspec": {
      "display_name": ".venv",
      "language": "python",
      "name": "python3"
    },
    "language_info": {
      "codemirror_mode": {
        "name": "ipython",
        "version": 3
      },
      "file_extension": ".py",
      "mimetype": "text/x-python",
      "name": "python",
      "nbconvert_exporter": "python",
      "pygments_lexer": "ipython3",
      "version": "3.10.17"
    }
  },
  "nbformat": 4,
  "nbformat_minor": 0
}
